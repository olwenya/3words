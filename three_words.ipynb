{
 "cells": [
  {
   "cell_type": "code",
   "execution_count": 1,
   "metadata": {},
   "outputs": [
    {
     "name": "stdout",
     "output_type": "stream",
     "text": [
      "Successful grab\n"
     ]
    }
   ],
   "source": [
    "with open('words.txt','r') as file:\n",
    "  lines = file.readlines()\n",
    "\n",
    "from sklearn.feature_extraction.text import CountVectorizer\n",
    "cv = CountVectorizer()\n",
    "train = cv.fit_transform(lines)\n",
    "\n",
    "import numpy as np\n",
    "zipped = zip(cv.get_feature_names(), np.ravel(train.sum(axis=0)))\n",
    "\n",
    "import csv\n",
    "with open('output.csv', \"w\") as output:\n",
    "        writer = csv.writer(output)\n",
    "        writer.writerow(['word','count'])\n",
    "        zip = [l for l in zipped]\n",
    "        for l in zip:\n",
    "            writer.writerow(l)\n",
    "        print('Successful grab')"
   ]
  },
  {
   "cell_type": "code",
   "execution_count": null,
   "metadata": {},
   "outputs": [],
   "source": []
  }
 ],
 "metadata": {
  "kernelspec": {
   "display_name": "Python 3.9.10 ('3words-47kTJC3D')",
   "language": "python",
   "name": "python3"
  },
  "language_info": {
   "codemirror_mode": {
    "name": "ipython",
    "version": 3
   },
   "file_extension": ".py",
   "mimetype": "text/x-python",
   "name": "python",
   "nbconvert_exporter": "python",
   "pygments_lexer": "ipython3",
   "version": "3.9.10"
  },
  "vscode": {
   "interpreter": {
    "hash": "344165b0461b72fa9b59b39bdae1b8e10c7176d02395ae42f8827571fe0c77be"
   }
  }
 },
 "nbformat": 4,
 "nbformat_minor": 2
}
