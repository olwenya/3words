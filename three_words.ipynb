{
 "cells": [
  {
   "cell_type": "markdown",
   "metadata": {},
   "source": [
    "Read and count by word"
   ]
  },
  {
   "cell_type": "code",
   "execution_count": 4,
   "metadata": {},
   "outputs": [],
   "source": [
    "from pathlib import Path\n",
    "\n",
    "data_file = Path.cwd().joinpath('words.txt')\n",
    "data = data_file.read_text()\n",
    "tokens = data.split()"
   ]
  },
  {
   "cell_type": "code",
   "execution_count": null,
   "metadata": {},
   "outputs": [
    {
     "ename": "NameError",
     "evalue": "name 'most_common' is not defined",
     "output_type": "error",
     "traceback": [
      "\u001b[0;31m---------------------------------------------------------------------------\u001b[0m",
      "\u001b[0;31mNameError\u001b[0m                                 Traceback (most recent call last)",
      "Cell \u001b[0;32mIn[5], line 5\u001b[0m\n\u001b[1;32m      3\u001b[0m counter\u001b[38;5;241m.\u001b[39mupdate(tokens)\n\u001b[1;32m      4\u001b[0m frequency \u001b[38;5;241m=\u001b[39m counter\u001b[38;5;241m.\u001b[39mmost_common()\n\u001b[0;32m----> 5\u001b[0m \u001b[43mmost_common\u001b[49m\n",
      "\u001b[0;31mNameError\u001b[0m: name 'most_common' is not defined"
     ]
    }
   ],
   "source": [
    "from collections import Counter\n",
    "counter = Counter()\n",
    "counter.update(tokens)\n",
    "frequency = counter.most_common()\n",
    "frequency\n"
   ]
  }
 ],
 "metadata": {
  "kernelspec": {
   "display_name": "three-words-0dfAl_Px-py3.12",
   "language": "python",
   "name": "python3"
  },
  "language_info": {
   "codemirror_mode": {
    "name": "ipython",
    "version": 3
   },
   "file_extension": ".py",
   "mimetype": "text/x-python",
   "name": "python",
   "nbconvert_exporter": "python",
   "pygments_lexer": "ipython3",
   "version": "3.12.7"
  }
 },
 "nbformat": 4,
 "nbformat_minor": 2
}
