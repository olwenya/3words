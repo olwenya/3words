{
 "metadata": {
  "language_info": {
   "codemirror_mode": {
    "name": "ipython",
    "version": 3
   },
   "file_extension": ".py",
   "mimetype": "text/x-python",
   "name": "python",
   "nbconvert_exporter": "python",
   "pygments_lexer": "ipython3",
   "version": 3
  },
  "orig_nbformat": 4
 },
 "nbformat": 4,
 "nbformat_minor": 2,
 "cells": [
  {
   "cell_type": "code",
   "execution_count": null,
   "metadata": {},
   "outputs": [],
   "source": [
    "with open('words.txt','r') as file:\n",
    "  lines = file.readlines()\n",
    "\n",
    "  print(lines)\n",
    "\n",
    "from sklearn.feature_extraction.text import CountVectorizer\n",
    "cv = CountVectorizer()\n",
    "train = cv.fit_transform(lines)\n",
    "\n",
    "import numpy as np\n",
    "zipped = zip(cv.get_feature_names(), np.ravel(train.sum(axis=0)))\n",
    "\n",
    "import csv\n",
    "with open('output.csv', \"w\") as output:\n",
    "        writer = csv.writer(output)\n",
    "        writer.writerow(['word','count'])\n",
    "        zip = [l for l in zipped]\n",
    "        for l in zip:\n",
    "            writer.writerow(l)\n",
    "        print('Successful grab')"
   ]
  }
 ]
}