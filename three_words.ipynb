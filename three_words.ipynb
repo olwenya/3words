{
 "cells": [
  {
   "cell_type": "code",
   "execution_count": 1,
   "metadata": {},
   "outputs": [
    {
     "name": "stdout",
     "output_type": "stream",
     "text": [
      "Successful grab\n"
     ]
    }
   ],
   "source": [
    "with open('words.txt','r') as file:\n",
    "  lines = file.readlines()\n",
    "\n",
    "from sklearn.feature_extraction.text import CountVectorizer\n",
    "cv = CountVectorizer()\n",
    "train = cv.fit_transform(lines)\n",
    "\n",
    "import numpy as np\n",
    "zipped = zip(cv.get_feature_names(), np.ravel(train.sum(axis=0)))\n",
    "\n",
    "import csv\n",
    "with open('output.csv', \"w\") as output:\n",
    "        writer = csv.writer(output)\n",
    "        writer.writerow(['word','count'])\n",
    "        zip = [l for l in zipped]\n",
    "        for l in zip:\n",
    "            writer.writerow(l)\n",
    "        print('Successful grab')"
   ]
  },
  {
   "cell_type": "code",
   "execution_count": null,
   "metadata": {},
   "outputs": [],
   "source": []
  }
 ],
 "metadata": {
  "interpreter": {
   "hash": "8eadd431569d209195791b2c35d1189979fa05628dfcfed4696c35725ed7c499"
  },
  "kernelspec": {
   "display_name": "Python 3.9.5 64-bit ('3words-6bTMywFO': pipenv)",
   "language": "python",
   "name": "python395jvsc74a57bd08eadd431569d209195791b2c35d1189979fa05628dfcfed4696c35725ed7c499"
  },
  "language_info": {
   "codemirror_mode": {
    "name": "ipython",
    "version": 3
   },
   "file_extension": ".py",
   "mimetype": "text/x-python",
   "name": "python",
   "nbconvert_exporter": "python",
   "pygments_lexer": "ipython3",
   "version": "3.9.5"
  }
 },
 "nbformat": 4,
 "nbformat_minor": 2
}
